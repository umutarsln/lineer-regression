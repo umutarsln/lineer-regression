{
 "cells": [
  {
   "cell_type": "code",
   "execution_count": null,
   "metadata": {},
   "outputs": [],
   "source": [
    "from bs4 import BeautifulSoup\n",
    "import requests\n",
    "import pandas as pd\n",
    "import numpy as np\n",
    "import time, os"
   ]
  },
  {
   "cell_type": "code",
   "execution_count": null,
   "metadata": {},
   "outputs": [],
   "source": [
    "fbref_query = \"https://fbref.com/en/comps/9/history/Premier-League-Seasons\""
   ]
  },
  {
   "cell_type": "code",
   "execution_count": null,
   "metadata": {},
   "outputs": [],
   "source": [
    "def getAndParseURL(url):\n",
    "    \"\"\"\n",
    "    This function takes a URL as input and returns a BeautifulSoup object.\n",
    "\n",
    "    :param url: The URL to be fetched.\n",
    "    :return: A BeautifulSoup object representing the parsed HTML content of the URL.\n",
    "    \"\"\"\n",
    "\n",
    "    # Send a GET request to the specified URL.\n",
    "    # The User-Agent header is set to mimic a web browser.\n",
    "    result = requests.get(url, headers={\"User-Agent\":\"Mozilla/5.0\"})\n",
    "\n",
    "    # Check if the request was successful (status code 200).\n",
    "    if result.status_code == 200:\n",
    "\n",
    "        # Parse the HTML content of the URL using BeautifulSoup.\n",
    "        soup = BeautifulSoup(result.text, \"html.parser\")\n",
    "\n",
    "        # Return the BeautifulSoup object.\n",
    "        return soup\n",
    "\n",
    "    else:\n",
    "        # If the request was not successful, print an error message.\n",
    "        print(\"Error: Unable to fetch URL. Status code:\", result.status_code\n",
    "              + \". Please check your internet connection or try again later.\")"
   ]
  },
  {
   "cell_type": "code",
   "execution_count": null,
   "metadata": {},
   "outputs": [],
   "source": [
    "getAndParseURL(fbref_query)"
   ]
  },
  {
   "cell_type": "markdown",
   "metadata": {},
   "source": [
    "### From 1990 to 2023"
   ]
  },
  {
   "cell_type": "code",
   "execution_count": null,
   "metadata": {},
   "outputs": [],
   "source": [
    "\n",
    "# Define an empty list to store the URLs of the seasons\n",
    "seasons = []\n",
    "\n",
    "# Get the HTML content of the URL and parse it\n",
    "html = getAndParseURL(fbref_query)\n",
    "\n",
    "# Define the number of seasons to retrieve\n",
    "season_count = 14\n",
    "\n",
    "# Loop through the HTML content to find the URLs of the seasons\n",
    "for season in html.findAll(\"td\", {\"data-stat\": \"league_name\"}):\n",
    "    # Append the URL of the season to the list\n",
    "    seasons.append(\"https://fbref.com\" + season.find(\"a\").get(\"href\"))\n",
    "    \n",
    "    # Decrement the count of seasons to retrieve\n",
    "    season_count -= 1\n",
    "    \n",
    "    # If the count reaches 0, break out of the loop\n",
    "    if season_count == 0:\n",
    "        break\n",
    "\n",
    "# Print the list of season URLs\n",
    "seasons\n",
    "#\n",
    "#This code retrieves the URLs of the seasons from the given URL. It uses the BeautifulSoup library to parse the HTML content and find the URLs. The code stores the URLs in a list and prints the list..</s>"
   ]
  },
  {
   "cell_type": "code",
   "execution_count": null,
   "metadata": {},
   "outputs": [],
   "source": [
    "data = requests.get(seasons[1])\n",
    "current_df = pd.read_html(data.text, match=\"Squad Standard Stats\")[0]"
   ]
  },
  {
   "cell_type": "code",
   "execution_count": null,
   "metadata": {},
   "outputs": [],
   "source": [
    "current_df"
   ]
  },
  {
   "cell_type": "code",
   "execution_count": null,
   "metadata": {},
   "outputs": [],
   "source": [
    "def getTables(matchTable,seasons,table):\n",
    "    \"\"\"\n",
    "    This function takes a matchTable string, a list of seasons, and an empty list table.\n",
    "    It iterates through each season in the seasons list, making a GET request to the season URL.\n",
    "    The function then parses the HTML response using BeautifulSoup and extracts the year from the HTML.\n",
    "    It reads the table data from the HTML response into a pandas DataFrame and adds the year as a new column to the DataFrame.\n",
    "    The DataFrame is then appended to the table list.\n",
    "    \"\"\"\n",
    "    for season in seasons:\n",
    "        try:\n",
    "            # Make a GET request to the season URL\n",
    "            data = requests.get(season)\n",
    "            \n",
    "            # Parse the HTML response using BeautifulSoup\n",
    "            soup = getAndParseURL(season)\n",
    "            \n",
    "            # Extract the year from the HTML\n",
    "            year = soup.find(\"div\",{\"class\":\"comps\"}).h1.text.strip().split()[0]\n",
    "            \n",
    "            # Read the table data from the HTML response into a pandas DataFrame\n",
    "            current_df = pd.read_html(data.text, match=matchTable)[0]\n",
    "            \n",
    "            # Add the year as a new column to the DataFrame\n",
    "            current_df[\"season\"] = year\n",
    "            \n",
    "            # Append the DataFrame to the table list\n",
    "            table.append(current_df)\n",
    "            \n",
    "        except:\n",
    "            # Print the season URL if an exception occurs\n",
    "            print(season)\n",
    "        \n",
    "        # Sleep for 5 seconds to prevent overloading the server\n",
    "        time.sleep(5)"
   ]
  },
  {
   "cell_type": "code",
   "execution_count": null,
   "metadata": {},
   "outputs": [],
   "source": [
    "\n",
    "# Create empty lists for each category\n",
    "standart_stats = []\n",
    "regular_season = []\n",
    "shooting = []\n",
    "passing = []\n",
    "goal_shot_creation = []\n",
    "defensive_action = []\n",
    "possession = []\n",
    "\n",
    "# Create a list of lists for easy access and manipulation\n",
    "table_list = [standart_stats, regular_season, shooting, passing, goal_shot_creation, defensive_action, possession]\n",
    "\n",
    "# Create a list of matching strings for each category\n",
    "matching_list = [\"Squad Standard Stats\", \"Regular season\", \"Squad Shooting\", \"Squad Passing\", \"Squad Goal and Shot Creation\", \"Squad Defensive Actions\", \"Squad Possession\"]\n",
    "\n",
    "# This code creates empty lists for each category of data and stores them in a list of lists called table_list.\n",
    "# The matching_list contains strings that match the categories in table_list.\n",
    "# This structure allows for easy access and manipulation of the data."
   ]
  },
  {
   "cell_type": "code",
   "execution_count": null,
   "metadata": {},
   "outputs": [],
   "source": [
    "getTables(\"Squad Possession\",seasons,possession)\n",
    "possession_results = pd.concat(possession, axis=0, ignore_index=True)"
   ]
  },
  {
   "cell_type": "code",
   "execution_count": null,
   "metadata": {},
   "outputs": [],
   "source": [
    "possession_results.columns = possession_results.columns.droplevel()\n",
    "possession_results.to_csv(\"possession.csv\", encoding='utf-8')"
   ]
  },
  {
   "cell_type": "code",
   "execution_count": null,
   "metadata": {},
   "outputs": [],
   "source": [
    "# otomatik hale getir\n",
    "#def get_write_data(tables,seasons,matchList): "
   ]
  },
  {
   "cell_type": "markdown",
   "metadata": {},
   "source": [
    "### --------------------"
   ]
  },
  {
   "cell_type": "code",
   "execution_count": null,
   "metadata": {},
   "outputs": [],
   "source": [
    "soup = getAndParseURL('https://fbref.com/en/comps/9/2021-2022/2021-2022-Premier-League-Stats')"
   ]
  },
  {
   "cell_type": "code",
   "execution_count": null,
   "metadata": {},
   "outputs": [],
   "source": [
    "soup.find(\"div\",{\"class\":\"comps\"}).h1.text.strip().split()[0]"
   ]
  },
  {
   "cell_type": "code",
   "execution_count": null,
   "metadata": {},
   "outputs": [],
   "source": []
  }
 ],
 "metadata": {
  "kernelspec": {
   "display_name": "base",
   "language": "python",
   "name": "python3"
  },
  "language_info": {
   "codemirror_mode": {
    "name": "ipython",
    "version": 3
   },
   "file_extension": ".py",
   "mimetype": "text/x-python",
   "name": "python",
   "nbconvert_exporter": "python",
   "pygments_lexer": "ipython3",
   "version": "3.9.7"
  }
 },
 "nbformat": 4,
 "nbformat_minor": 2
}
