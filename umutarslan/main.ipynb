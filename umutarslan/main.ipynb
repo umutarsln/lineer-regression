{
 "cells": [
  {
   "cell_type": "code",
   "execution_count": 1,
   "metadata": {},
   "outputs": [],
   "source": [
    "from bs4 import BeautifulSoup\n",
    "import requests\n",
    "import time, os"
   ]
  },
  {
   "cell_type": "code",
   "execution_count": 2,
   "metadata": {},
   "outputs": [],
   "source": [
    "from selenium import webdriver\n",
    "from selenium.webdriver.common.keys import Keys\n",
    "import warnings\n",
    "warnings.filterwarnings(action='ignore')"
   ]
  },
  {
   "cell_type": "code",
   "execution_count": 5,
   "metadata": {},
   "outputs": [],
   "source": [
    "fbref_query = \"https://fbref.com/en/comps/9/Premier-League-Stats\""
   ]
  },
  {
   "cell_type": "code",
   "execution_count": 13,
   "metadata": {},
   "outputs": [],
   "source": [
    "driver = webdriver.Chrome()\n",
    "driver.get(fbref_query)"
   ]
  },
  {
   "cell_type": "code",
   "execution_count": 14,
   "metadata": {},
   "outputs": [],
   "source": [
    "soup = BeautifulSoup(driver.page_source, \"html.parser\")"
   ]
  },
  {
   "cell_type": "markdown",
   "metadata": {},
   "source": [
    "### Sezon bilgisi"
   ]
  },
  {
   "cell_type": "code",
   "execution_count": 182,
   "metadata": {},
   "outputs": [
    {
     "data": {
      "text/plain": [
       "'2023-2024'"
      ]
     },
     "execution_count": 182,
     "metadata": {},
     "output_type": "execute_result"
    }
   ],
   "source": [
    "date = soup.find(\"div\", {\"id\":\"meta\"}).h1.text.strip().split()[0]\n",
    "date"
   ]
  },
  {
   "cell_type": "markdown",
   "metadata": {},
   "source": [
    "### Takım bilgisi"
   ]
  },
  {
   "cell_type": "code",
   "execution_count": 179,
   "metadata": {},
   "outputs": [
    {
     "data": {
      "text/plain": [
       "'Arsenal'"
      ]
     },
     "execution_count": 179,
     "metadata": {},
     "output_type": "execute_result"
    }
   ],
   "source": [
    "squad = soup.find(\"table\", {\"class\":\"stats_table sortable min_width now_sortable sticky_table eq1 re1 le1\"}).tbody.th.text\n",
    "squad"
   ]
  },
  {
   "cell_type": "markdown",
   "metadata": {},
   "source": [
    "### Stats"
   ]
  },
  {
   "cell_type": "code",
   "execution_count": 180,
   "metadata": {},
   "outputs": [
    {
     "data": {
      "text/plain": [
       "'23'"
      ]
     },
     "execution_count": 180,
     "metadata": {},
     "output_type": "execute_result"
    }
   ],
   "source": [
    "players_used = soup.find(\"table\", {\"class\":\"stats_table sortable min_width now_sortable sticky_table eq1 re1 le1\"}).find(\"tr\", {\"data-row\":\"0\"}).find(\"td\", {\"data-stat\":\"players_used\"}).text\n",
    "players_used"
   ]
  },
  {
   "cell_type": "code",
   "execution_count": 181,
   "metadata": {},
   "outputs": [
    {
     "data": {
      "text/plain": [
       "'25.2'"
      ]
     },
     "execution_count": 181,
     "metadata": {},
     "output_type": "execute_result"
    }
   ],
   "source": [
    "avg_age = soup.find(\"table\", {\"class\":\"stats_table sortable min_width now_sortable sticky_table eq1 re1 le1\"}).find(\"tr\", {\"data-row\":\"0\"}).find(\"td\", {\"data-stat\":\"avg_age\"}).text\n",
    "avg_age"
   ]
  },
  {
   "cell_type": "code",
   "execution_count": 178,
   "metadata": {},
   "outputs": [
    {
     "data": {
      "text/plain": [
       "'60.7'"
      ]
     },
     "execution_count": 178,
     "metadata": {},
     "output_type": "execute_result"
    }
   ],
   "source": [
    "possession = soup.find(\"table\", {\"class\":\"stats_table sortable min_width now_sortable sticky_table eq1 re1 le1\"}).find(\"tr\", {\"data-row\":\"0\"}).find(\"td\", {\"data-stat\":\"possession\"}).text\n",
    "possession"
   ]
  },
  {
   "cell_type": "code",
   "execution_count": 177,
   "metadata": {},
   "outputs": [
    {
     "data": {
      "text/plain": [
       "'12'"
      ]
     },
     "execution_count": 177,
     "metadata": {},
     "output_type": "execute_result"
    }
   ],
   "source": [
    "games = soup.find(\"table\", {\"class\":\"stats_table sortable min_width now_sortable sticky_table eq1 re1 le1\"}).find(\"tr\", {\"data-row\":\"0\"}).find(\"td\", {\"data-stat\":\"games\"}).text\n",
    "games"
   ]
  },
  {
   "cell_type": "code",
   "execution_count": 176,
   "metadata": {},
   "outputs": [
    {
     "data": {
      "text/plain": [
       "'25'"
      ]
     },
     "execution_count": 176,
     "metadata": {},
     "output_type": "execute_result"
    }
   ],
   "source": [
    "goals = soup.find(\"table\", {\"class\":\"stats_table sortable min_width now_sortable sticky_table eq1 re1 le1\"}).find(\"tr\", {\"data-row\":\"0\"}).find(\"td\", {\"data-stat\":\"goals\"}).text\n",
    "goals"
   ]
  },
  {
   "cell_type": "code",
   "execution_count": 175,
   "metadata": {},
   "outputs": [
    {
     "data": {
      "text/plain": [
       "'14'"
      ]
     },
     "execution_count": 175,
     "metadata": {},
     "output_type": "execute_result"
    }
   ],
   "source": [
    "assists = soup.find(\"table\", {\"class\":\"stats_table sortable min_width now_sortable sticky_table eq1 re1 le1\"}).find(\"tr\", {\"data-row\":\"0\"}).find(\"td\", {\"data-stat\":\"assists\"}).text\n",
    "assists"
   ]
  },
  {
   "cell_type": "code",
   "execution_count": 174,
   "metadata": {},
   "outputs": [
    {
     "data": {
      "text/plain": [
       "'19'"
      ]
     },
     "execution_count": 174,
     "metadata": {},
     "output_type": "execute_result"
    }
   ],
   "source": [
    "# Goals without penalties\n",
    "goals_pens = soup.find(\"table\", {\"class\":\"stats_table sortable min_width now_sortable sticky_table eq1 re1 le1\"}).find(\"tr\", {\"data-row\":\"0\"}).find(\"td\", {\"data-stat\":\"goals_pens\"}).text\n",
    "goals_pens"
   ]
  },
  {
   "cell_type": "code",
   "execution_count": 173,
   "metadata": {},
   "outputs": [
    {
     "data": {
      "text/plain": [
       "'21.0'"
      ]
     },
     "execution_count": 173,
     "metadata": {},
     "output_type": "execute_result"
    }
   ],
   "source": [
    "# Expected goals\n",
    "xg = soup.find(\"table\", {\"class\":\"stats_table sortable min_width now_sortable sticky_table eq1 re1 le1\"}).find(\"tr\", {\"data-row\":\"0\"}).find(\"td\", {\"data-stat\":\"xg\"}).text\n",
    "xg"
   ]
  },
  {
   "cell_type": "code",
   "execution_count": 172,
   "metadata": {},
   "outputs": [
    {
     "data": {
      "text/plain": [
       "'16.5'"
      ]
     },
     "execution_count": 172,
     "metadata": {},
     "output_type": "execute_result"
    }
   ],
   "source": [
    "# Expected non-penalty goals\n",
    "npxg = soup.find(\"table\", {\"class\":\"stats_table sortable min_width now_sortable sticky_table eq1 re1 le1\"}).find(\"tr\", {\"data-row\":\"0\"}).find(\"td\", {\"data-stat\":\"npxg\"}).text\n",
    "npxg"
   ]
  },
  {
   "cell_type": "code",
   "execution_count": 171,
   "metadata": {},
   "outputs": [
    {
     "data": {
      "text/plain": [
       "'12.7'"
      ]
     },
     "execution_count": 171,
     "metadata": {},
     "output_type": "execute_result"
    }
   ],
   "source": [
    "# Expected assists\n",
    "xg_assist = soup.find(\"table\", {\"class\":\"stats_table sortable min_width now_sortable sticky_table eq1 re1 le1\"}).find(\"tr\", {\"data-row\":\"0\"}).find(\"td\", {\"data-stat\":\"xg_assist\"}).text\n",
    "xg_assist"
   ]
  },
  {
   "cell_type": "code",
   "execution_count": 170,
   "metadata": {},
   "outputs": [
    {
     "data": {
      "text/plain": [
       "'245'"
      ]
     },
     "execution_count": 170,
     "metadata": {},
     "output_type": "execute_result"
    }
   ],
   "source": [
    "progressive_carries = soup.find(\"table\", {\"class\":\"stats_table sortable min_width now_sortable sticky_table eq1 re1 le1\"}).find(\"tr\", {\"data-row\":\"0\"}).find(\"td\", {\"data-stat\":\"progressive_carries\"}).text\n",
    "progressive_carries"
   ]
  },
  {
   "cell_type": "code",
   "execution_count": 169,
   "metadata": {},
   "outputs": [
    {
     "data": {
      "text/plain": [
       "'630'"
      ]
     },
     "execution_count": 169,
     "metadata": {},
     "output_type": "execute_result"
    }
   ],
   "source": [
    "progressive_passes = soup.find(\"table\", {\"class\":\"stats_table sortable min_width now_sortable sticky_table eq1 re1 le1\"}).find(\"tr\", {\"data-row\":\"0\"}).find(\"td\", {\"data-stat\":\"progressive_passes\"}).text\n",
    "progressive_passes"
   ]
  },
  {
   "cell_type": "code",
   "execution_count": 168,
   "metadata": {},
   "outputs": [
    {
     "data": {
      "text/plain": [
       "'2.08'"
      ]
     },
     "execution_count": 168,
     "metadata": {},
     "output_type": "execute_result"
    }
   ],
   "source": [
    "goals_per90 = soup.find(\"table\", {\"class\":\"stats_table sortable min_width now_sortable sticky_table eq1 re1 le1\"}).find(\"tr\", {\"data-row\":\"0\"}).find(\"td\", {\"data-stat\":\"goals_per90\"}).text\n",
    "goals_per90"
   ]
  },
  {
   "cell_type": "code",
   "execution_count": 167,
   "metadata": {},
   "outputs": [
    {
     "data": {
      "text/plain": [
       "'1.17'"
      ]
     },
     "execution_count": 167,
     "metadata": {},
     "output_type": "execute_result"
    }
   ],
   "source": [
    "assists_per90 = soup.find(\"table\", {\"class\":\"stats_table sortable min_width now_sortable sticky_table eq1 re1 le1\"}).find(\"tr\", {\"data-row\":\"0\"}).find(\"td\", {\"data-stat\":\"assists_per90\"}).text\n",
    "assists_per90"
   ]
  },
  {
   "cell_type": "code",
   "execution_count": 166,
   "metadata": {},
   "outputs": [
    {
     "data": {
      "text/plain": [
       "'3.25'"
      ]
     },
     "execution_count": 166,
     "metadata": {},
     "output_type": "execute_result"
    }
   ],
   "source": [
    "goals_assists_per90 = soup.find(\"table\", {\"class\":\"stats_table sortable min_width now_sortable sticky_table eq1 re1 le1\"}).find(\"tr\", {\"data-row\":\"0\"}).find(\"td\", {\"data-stat\":\"goals_assists_per90\"}).text\n",
    "goals_assists_per90"
   ]
  },
  {
   "cell_type": "code",
   "execution_count": 165,
   "metadata": {},
   "outputs": [
    {
     "data": {
      "text/plain": [
       "'1.58'"
      ]
     },
     "execution_count": 165,
     "metadata": {},
     "output_type": "execute_result"
    }
   ],
   "source": [
    "goals_pens_per90 = soup.find(\"table\", {\"class\":\"stats_table sortable min_width now_sortable sticky_table eq1 re1 le1\"}).find(\"tr\", {\"data-row\":\"0\"}).find(\"td\", {\"data-stat\":\"goals_pens_per90\"}).text\n",
    "goals_pens_per90"
   ]
  },
  {
   "cell_type": "code",
   "execution_count": 164,
   "metadata": {},
   "outputs": [
    {
     "data": {
      "text/plain": [
       "'2.75'"
      ]
     },
     "execution_count": 164,
     "metadata": {},
     "output_type": "execute_result"
    }
   ],
   "source": [
    "goals_assists_pens_per90 = soup.find(\"table\", {\"class\":\"stats_table sortable min_width now_sortable sticky_table eq1 re1 le1\"}).find(\"tr\", {\"data-row\":\"0\"}).find(\"td\", {\"data-stat\":\"goals_assists_pens_per90\"}).text\n",
    "goals_assists_pens_per90"
   ]
  },
  {
   "cell_type": "code",
   "execution_count": 163,
   "metadata": {},
   "outputs": [
    {
     "data": {
      "text/plain": [
       "'1.75'"
      ]
     },
     "execution_count": 163,
     "metadata": {},
     "output_type": "execute_result"
    }
   ],
   "source": [
    "xg_per90 = soup.find(\"table\", {\"class\":\"stats_table sortable min_width now_sortable sticky_table eq1 re1 le1\"}).find(\"tr\", {\"data-row\":\"0\"}).find(\"td\", {\"data-stat\":\"xg_per90\"}).text\n",
    "xg_per90"
   ]
  },
  {
   "cell_type": "code",
   "execution_count": 162,
   "metadata": {},
   "outputs": [
    {
     "data": {
      "text/plain": [
       "'1.06'"
      ]
     },
     "execution_count": 162,
     "metadata": {},
     "output_type": "execute_result"
    }
   ],
   "source": [
    "xg_assist_per90 = soup.find(\"table\", {\"class\":\"stats_table sortable min_width now_sortable sticky_table eq1 re1 le1\"}).find(\"tr\", {\"data-row\":\"0\"}).find(\"td\", {\"data-stat\":\"xg_assist_per90\"}).text\n",
    "xg_assist_per90"
   ]
  },
  {
   "cell_type": "code",
   "execution_count": 161,
   "metadata": {},
   "outputs": [
    {
     "data": {
      "text/plain": [
       "'2.81'"
      ]
     },
     "execution_count": 161,
     "metadata": {},
     "output_type": "execute_result"
    }
   ],
   "source": [
    "xg_xg_assist_per90 = soup.find(\"table\", {\"class\":\"stats_table sortable min_width now_sortable sticky_table eq1 re1 le1\"}).find(\"tr\", {\"data-row\":\"0\"}).find(\"td\", {\"data-stat\":\"xg_xg_assist_per90\"}).text\n",
    "xg_xg_assist_per90"
   ]
  },
  {
   "cell_type": "code",
   "execution_count": 160,
   "metadata": {},
   "outputs": [
    {
     "data": {
      "text/plain": [
       "'1.38'"
      ]
     },
     "execution_count": 160,
     "metadata": {},
     "output_type": "execute_result"
    }
   ],
   "source": [
    "npxg_per90 = soup.find(\"table\", {\"class\":\"stats_table sortable min_width now_sortable sticky_table eq1 re1 le1\"}).find(\"tr\", {\"data-row\":\"0\"}).find(\"td\", {\"data-stat\":\"npxg_per90\"}).text\n",
    "npxg_per90"
   ]
  },
  {
   "cell_type": "code",
   "execution_count": 159,
   "metadata": {},
   "outputs": [
    {
     "data": {
      "text/plain": [
       "'2.44'"
      ]
     },
     "execution_count": 159,
     "metadata": {},
     "output_type": "execute_result"
    }
   ],
   "source": [
    "npxg_xg_assist_per90 = soup.find(\"table\", {\"class\":\"stats_table sortable min_width now_sortable sticky_table eq1 re1 le1\"}).find(\"tr\", {\"data-row\":\"0\"}).find(\"td\", {\"data-stat\":\"npxg_xg_assist_per90\"}).text\n",
    "npxg_xg_assist_per90"
   ]
  },
  {
   "cell_type": "code",
   "execution_count": null,
   "metadata": {},
   "outputs": [],
   "source": []
  }
 ],
 "metadata": {
  "kernelspec": {
   "display_name": "base",
   "language": "python",
   "name": "python3"
  },
  "language_info": {
   "codemirror_mode": {
    "name": "ipython",
    "version": 3
   },
   "file_extension": ".py",
   "mimetype": "text/x-python",
   "name": "python",
   "nbconvert_exporter": "python",
   "pygments_lexer": "ipython3",
   "version": "3.9.7"
  }
 },
 "nbformat": 4,
 "nbformat_minor": 2
}
