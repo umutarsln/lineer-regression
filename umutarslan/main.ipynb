{
 "cells": [
  {
   "cell_type": "code",
   "execution_count": 1,
   "metadata": {},
   "outputs": [],
   "source": [
    "from bs4 import BeautifulSoup\n",
    "import requests\n",
    "import time, os"
   ]
  },
  {
   "cell_type": "code",
   "execution_count": 2,
   "metadata": {},
   "outputs": [],
   "source": [
    "from selenium import webdriver\n",
    "from selenium.webdriver.common.keys import Keys\n",
    "import warnings\n",
    "warnings.filterwarnings(action='ignore')"
   ]
  },
  {
   "cell_type": "code",
   "execution_count": 5,
   "metadata": {},
   "outputs": [],
   "source": [
    "fbref_query = \"https://fbref.com/en/comps/9/Premier-League-Stats\""
   ]
  },
  {
   "cell_type": "code",
   "execution_count": 13,
   "metadata": {},
   "outputs": [],
   "source": [
    "driver = webdriver.Chrome()\n",
    "driver.get(fbref_query)"
   ]
  },
  {
   "cell_type": "code",
   "execution_count": 14,
   "metadata": {},
   "outputs": [],
   "source": [
    "soup = BeautifulSoup(driver.page_source, \"html.parser\")"
   ]
  },
  {
   "cell_type": "markdown",
   "metadata": {},
   "source": [
    "### Sezon bilgisi"
   ]
  },
  {
   "cell_type": "code",
   "execution_count": 29,
   "metadata": {},
   "outputs": [],
   "source": [
    "date = soup.find(\"div\", {\"id\":\"meta\"}).h1.text.strip().split()[0]"
   ]
  },
  {
   "cell_type": "code",
   "execution_count": 30,
   "metadata": {},
   "outputs": [
    {
     "data": {
      "text/plain": [
       "'2023-2024'"
      ]
     },
     "execution_count": 30,
     "metadata": {},
     "output_type": "execute_result"
    }
   ],
   "source": [
    "date"
   ]
  },
  {
   "cell_type": "markdown",
   "metadata": {},
   "source": [
    "### Takım bilgisi"
   ]
  },
  {
   "cell_type": "code",
   "execution_count": 46,
   "metadata": {},
   "outputs": [],
   "source": [
    "squad = soup.find(\"table\", {\"class\":\"stats_table sortable min_width now_sortable sticky_table eq1 re1 le1\"}).tbody.th.text"
   ]
  },
  {
   "cell_type": "code",
   "execution_count": 47,
   "metadata": {},
   "outputs": [
    {
     "data": {
      "text/plain": [
       "'Arsenal'"
      ]
     },
     "execution_count": 47,
     "metadata": {},
     "output_type": "execute_result"
    }
   ],
   "source": [
    "squad"
   ]
  },
  {
   "cell_type": "markdown",
   "metadata": {},
   "source": [
    "### Stats"
   ]
  },
  {
   "cell_type": "code",
   "execution_count": 110,
   "metadata": {},
   "outputs": [],
   "source": [
    "players_used = soup.find(\"table\", {\"class\":\"stats_table sortable min_width now_sortable sticky_table eq1 re1 le1\"}).find(\"tr\", {\"data-row\":\"0\"}).find(\"td\", {\"data-stat\":\"players_used\"}).text"
   ]
  },
  {
   "cell_type": "code",
   "execution_count": 109,
   "metadata": {},
   "outputs": [
    {
     "data": {
      "text/plain": [
       "'25'"
      ]
     },
     "execution_count": 109,
     "metadata": {},
     "output_type": "execute_result"
    }
   ],
   "source": [
    "players_used"
   ]
  },
  {
   "cell_type": "code",
   "execution_count": 103,
   "metadata": {},
   "outputs": [],
   "source": [
    "avg_age = soup.find(\"table\", {\"class\":\"stats_table sortable min_width now_sortable sticky_table eq1 re1 le1\"}).find(\"tr\", {\"data-row\":\"0\"}).find(\"td\", {\"data-stat\":\"avg_age\"}).text"
   ]
  },
  {
   "cell_type": "code",
   "execution_count": 104,
   "metadata": {},
   "outputs": [
    {
     "data": {
      "text/plain": [
       "'25.2'"
      ]
     },
     "execution_count": 104,
     "metadata": {},
     "output_type": "execute_result"
    }
   ],
   "source": [
    "avg_age"
   ]
  },
  {
   "cell_type": "code",
   "execution_count": 101,
   "metadata": {},
   "outputs": [],
   "source": [
    "possession = soup.find(\"table\", {\"class\":\"stats_table sortable min_width now_sortable sticky_table eq1 re1 le1\"}).find(\"tr\", {\"data-row\":\"0\"}).find(\"td\", {\"data-stat\":\"possession\"}).text"
   ]
  },
  {
   "cell_type": "code",
   "execution_count": 100,
   "metadata": {},
   "outputs": [
    {
     "data": {
      "text/plain": [
       "'53.8'"
      ]
     },
     "execution_count": 100,
     "metadata": {},
     "output_type": "execute_result"
    }
   ],
   "source": [
    "possession"
   ]
  },
  {
   "cell_type": "code",
   "execution_count": 111,
   "metadata": {},
   "outputs": [],
   "source": [
    "games = soup.find(\"table\", {\"class\":\"stats_table sortable min_width now_sortable sticky_table eq1 re1 le1\"}).find(\"tr\", {\"data-row\":\"0\"}).find(\"td\", {\"data-stat\":\"games\"}).text"
   ]
  },
  {
   "cell_type": "code",
   "execution_count": 112,
   "metadata": {},
   "outputs": [
    {
     "data": {
      "text/plain": [
       "'12'"
      ]
     },
     "execution_count": 112,
     "metadata": {},
     "output_type": "execute_result"
    }
   ],
   "source": [
    "games"
   ]
  },
  {
   "cell_type": "code",
   "execution_count": 115,
   "metadata": {},
   "outputs": [],
   "source": [
    "goals = soup.find(\"table\", {\"class\":\"stats_table sortable min_width now_sortable sticky_table eq1 re1 le1\"}).find(\"tr\", {\"data-row\":\"0\"}).find(\"td\", {\"data-stat\":\"goals\"}).text"
   ]
  },
  {
   "cell_type": "code",
   "execution_count": 116,
   "metadata": {},
   "outputs": [
    {
     "data": {
      "text/plain": [
       "'25'"
      ]
     },
     "execution_count": 116,
     "metadata": {},
     "output_type": "execute_result"
    }
   ],
   "source": [
    "goals"
   ]
  },
  {
   "cell_type": "code",
   "execution_count": 117,
   "metadata": {},
   "outputs": [],
   "source": [
    "assists = soup.find(\"table\", {\"class\":\"stats_table sortable min_width now_sortable sticky_table eq1 re1 le1\"}).find(\"tr\", {\"data-row\":\"0\"}).find(\"td\", {\"data-stat\":\"assists\"}).text"
   ]
  },
  {
   "cell_type": "code",
   "execution_count": 118,
   "metadata": {},
   "outputs": [
    {
     "data": {
      "text/plain": [
       "'14'"
      ]
     },
     "execution_count": 118,
     "metadata": {},
     "output_type": "execute_result"
    }
   ],
   "source": [
    "assists"
   ]
  },
  {
   "cell_type": "code",
   "execution_count": 131,
   "metadata": {},
   "outputs": [],
   "source": [
    "# Goals without penalties\n",
    "goals_pens = soup.find(\"table\", {\"class\":\"stats_table sortable min_width now_sortable sticky_table eq1 re1 le1\"}).find(\"tr\", {\"data-row\":\"0\"}).find(\"td\", {\"data-stat\":\"goals_pens\"}).text"
   ]
  },
  {
   "cell_type": "code",
   "execution_count": 132,
   "metadata": {},
   "outputs": [
    {
     "data": {
      "text/plain": [
       "'19'"
      ]
     },
     "execution_count": 132,
     "metadata": {},
     "output_type": "execute_result"
    }
   ],
   "source": [
    "goals_pens"
   ]
  },
  {
   "cell_type": "code",
   "execution_count": 119,
   "metadata": {},
   "outputs": [],
   "source": [
    "# Expected goals\n",
    "xg = soup.find(\"table\", {\"class\":\"stats_table sortable min_width now_sortable sticky_table eq1 re1 le1\"}).find(\"tr\", {\"data-row\":\"0\"}).find(\"td\", {\"data-stat\":\"xg\"}).text"
   ]
  },
  {
   "cell_type": "code",
   "execution_count": 120,
   "metadata": {},
   "outputs": [
    {
     "data": {
      "text/plain": [
       "'21.0'"
      ]
     },
     "execution_count": 120,
     "metadata": {},
     "output_type": "execute_result"
    }
   ],
   "source": [
    "xg"
   ]
  },
  {
   "cell_type": "code",
   "execution_count": 133,
   "metadata": {},
   "outputs": [],
   "source": [
    "# Expected non-penalty goals\n",
    "npxg = soup.find(\"table\", {\"class\":\"stats_table sortable min_width now_sortable sticky_table eq1 re1 le1\"}).find(\"tr\", {\"data-row\":\"0\"}).find(\"td\", {\"data-stat\":\"npxg\"}).text"
   ]
  },
  {
   "cell_type": "code",
   "execution_count": 134,
   "metadata": {},
   "outputs": [
    {
     "data": {
      "text/plain": [
       "'16.5'"
      ]
     },
     "execution_count": 134,
     "metadata": {},
     "output_type": "execute_result"
    }
   ],
   "source": [
    "npxg"
   ]
  },
  {
   "cell_type": "code",
   "execution_count": 135,
   "metadata": {},
   "outputs": [],
   "source": [
    "# Expected assists\n",
    "xg_assist = soup.find(\"table\", {\"class\":\"stats_table sortable min_width now_sortable sticky_table eq1 re1 le1\"}).find(\"tr\", {\"data-row\":\"0\"}).find(\"td\", {\"data-stat\":\"xg_assist\"}).text"
   ]
  },
  {
   "cell_type": "code",
   "execution_count": 124,
   "metadata": {},
   "outputs": [
    {
     "data": {
      "text/plain": [
       "'12.7'"
      ]
     },
     "execution_count": 124,
     "metadata": {},
     "output_type": "execute_result"
    }
   ],
   "source": [
    "xg_assist"
   ]
  },
  {
   "cell_type": "code",
   "execution_count": 125,
   "metadata": {},
   "outputs": [],
   "source": [
    "progressive_carries = soup.find(\"table\", {\"class\":\"stats_table sortable min_width now_sortable sticky_table eq1 re1 le1\"}).find(\"tr\", {\"data-row\":\"0\"}).find(\"td\", {\"data-stat\":\"progressive_carries\"}).text"
   ]
  },
  {
   "cell_type": "code",
   "execution_count": 126,
   "metadata": {},
   "outputs": [
    {
     "data": {
      "text/plain": [
       "'245'"
      ]
     },
     "execution_count": 126,
     "metadata": {},
     "output_type": "execute_result"
    }
   ],
   "source": [
    "progressive_carries"
   ]
  },
  {
   "cell_type": "code",
   "execution_count": 127,
   "metadata": {},
   "outputs": [],
   "source": [
    "progressive_passes = soup.find(\"table\", {\"class\":\"stats_table sortable min_width now_sortable sticky_table eq1 re1 le1\"}).find(\"tr\", {\"data-row\":\"0\"}).find(\"td\", {\"data-stat\":\"progressive_passes\"}).text"
   ]
  },
  {
   "cell_type": "code",
   "execution_count": 128,
   "metadata": {},
   "outputs": [
    {
     "data": {
      "text/plain": [
       "'630'"
      ]
     },
     "execution_count": 128,
     "metadata": {},
     "output_type": "execute_result"
    }
   ],
   "source": [
    "progressive_passes"
   ]
  },
  {
   "cell_type": "code",
   "execution_count": 136,
   "metadata": {},
   "outputs": [],
   "source": [
    "goals_per90 = soup.find(\"table\", {\"class\":\"stats_table sortable min_width now_sortable sticky_table eq1 re1 le1\"}).find(\"tr\", {\"data-row\":\"0\"}).find(\"td\", {\"data-stat\":\"goals_per90\"}).text"
   ]
  },
  {
   "cell_type": "code",
   "execution_count": 137,
   "metadata": {},
   "outputs": [
    {
     "data": {
      "text/plain": [
       "'2.08'"
      ]
     },
     "execution_count": 137,
     "metadata": {},
     "output_type": "execute_result"
    }
   ],
   "source": [
    "goals_per90"
   ]
  },
  {
   "cell_type": "code",
   "execution_count": 138,
   "metadata": {},
   "outputs": [],
   "source": [
    "assists_per90 = soup.find(\"table\", {\"class\":\"stats_table sortable min_width now_sortable sticky_table eq1 re1 le1\"}).find(\"tr\", {\"data-row\":\"0\"}).find(\"td\", {\"data-stat\":\"assists_per90\"}).text"
   ]
  },
  {
   "cell_type": "code",
   "execution_count": 139,
   "metadata": {},
   "outputs": [
    {
     "data": {
      "text/plain": [
       "'1.17'"
      ]
     },
     "execution_count": 139,
     "metadata": {},
     "output_type": "execute_result"
    }
   ],
   "source": [
    "assists_per90"
   ]
  },
  {
   "cell_type": "code",
   "execution_count": 140,
   "metadata": {},
   "outputs": [],
   "source": [
    "goals_assists_per90 = soup.find(\"table\", {\"class\":\"stats_table sortable min_width now_sortable sticky_table eq1 re1 le1\"}).find(\"tr\", {\"data-row\":\"0\"}).find(\"td\", {\"data-stat\":\"goals_assists_per90\"}).text"
   ]
  },
  {
   "cell_type": "code",
   "execution_count": 141,
   "metadata": {},
   "outputs": [
    {
     "data": {
      "text/plain": [
       "'3.25'"
      ]
     },
     "execution_count": 141,
     "metadata": {},
     "output_type": "execute_result"
    }
   ],
   "source": [
    "goals_assists_per90"
   ]
  },
  {
   "cell_type": "code",
   "execution_count": 142,
   "metadata": {},
   "outputs": [],
   "source": [
    "goals_pens_per90 = soup.find(\"table\", {\"class\":\"stats_table sortable min_width now_sortable sticky_table eq1 re1 le1\"}).find(\"tr\", {\"data-row\":\"0\"}).find(\"td\", {\"data-stat\":\"goals_pens_per90\"}).text"
   ]
  },
  {
   "cell_type": "code",
   "execution_count": 143,
   "metadata": {},
   "outputs": [
    {
     "data": {
      "text/plain": [
       "'1.58'"
      ]
     },
     "execution_count": 143,
     "metadata": {},
     "output_type": "execute_result"
    }
   ],
   "source": [
    "goals_pens_per90"
   ]
  },
  {
   "cell_type": "code",
   "execution_count": 144,
   "metadata": {},
   "outputs": [],
   "source": [
    "goals_assists_pens_per90 = soup.find(\"table\", {\"class\":\"stats_table sortable min_width now_sortable sticky_table eq1 re1 le1\"}).find(\"tr\", {\"data-row\":\"0\"}).find(\"td\", {\"data-stat\":\"goals_assists_pens_per90\"}).text"
   ]
  },
  {
   "cell_type": "code",
   "execution_count": 145,
   "metadata": {},
   "outputs": [
    {
     "data": {
      "text/plain": [
       "'2.75'"
      ]
     },
     "execution_count": 145,
     "metadata": {},
     "output_type": "execute_result"
    }
   ],
   "source": [
    "goals_assists_pens_per90"
   ]
  },
  {
   "cell_type": "code",
   "execution_count": 146,
   "metadata": {},
   "outputs": [],
   "source": [
    "xg_per90 = soup.find(\"table\", {\"class\":\"stats_table sortable min_width now_sortable sticky_table eq1 re1 le1\"}).find(\"tr\", {\"data-row\":\"0\"}).find(\"td\", {\"data-stat\":\"xg_per90\"}).text"
   ]
  },
  {
   "cell_type": "code",
   "execution_count": 147,
   "metadata": {},
   "outputs": [
    {
     "data": {
      "text/plain": [
       "'1.75'"
      ]
     },
     "execution_count": 147,
     "metadata": {},
     "output_type": "execute_result"
    }
   ],
   "source": [
    "xg_per90"
   ]
  },
  {
   "cell_type": "code",
   "execution_count": 149,
   "metadata": {},
   "outputs": [],
   "source": [
    "xg_assist_per90 = soup.find(\"table\", {\"class\":\"stats_table sortable min_width now_sortable sticky_table eq1 re1 le1\"}).find(\"tr\", {\"data-row\":\"0\"}).find(\"td\", {\"data-stat\":\"xg_assist_per90\"}).text"
   ]
  },
  {
   "cell_type": "code",
   "execution_count": 150,
   "metadata": {},
   "outputs": [
    {
     "data": {
      "text/plain": [
       "'1.06'"
      ]
     },
     "execution_count": 150,
     "metadata": {},
     "output_type": "execute_result"
    }
   ],
   "source": [
    "xg_assist_per90"
   ]
  },
  {
   "cell_type": "code",
   "execution_count": 151,
   "metadata": {},
   "outputs": [],
   "source": [
    "xg_xg_assist_per90 = soup.find(\"table\", {\"class\":\"stats_table sortable min_width now_sortable sticky_table eq1 re1 le1\"}).find(\"tr\", {\"data-row\":\"0\"}).find(\"td\", {\"data-stat\":\"xg_xg_assist_per90\"}).text"
   ]
  },
  {
   "cell_type": "code",
   "execution_count": 152,
   "metadata": {},
   "outputs": [
    {
     "data": {
      "text/plain": [
       "'2.81'"
      ]
     },
     "execution_count": 152,
     "metadata": {},
     "output_type": "execute_result"
    }
   ],
   "source": [
    "xg_xg_assist_per90"
   ]
  },
  {
   "cell_type": "code",
   "execution_count": 155,
   "metadata": {},
   "outputs": [],
   "source": [
    "npxg_per90 = soup.find(\"table\", {\"class\":\"stats_table sortable min_width now_sortable sticky_table eq1 re1 le1\"}).find(\"tr\", {\"data-row\":\"0\"}).find(\"td\", {\"data-stat\":\"npxg_per90\"}).text"
   ]
  },
  {
   "cell_type": "code",
   "execution_count": 156,
   "metadata": {},
   "outputs": [
    {
     "data": {
      "text/plain": [
       "'1.38'"
      ]
     },
     "execution_count": 156,
     "metadata": {},
     "output_type": "execute_result"
    }
   ],
   "source": [
    "npxg_per90"
   ]
  },
  {
   "cell_type": "code",
   "execution_count": 157,
   "metadata": {},
   "outputs": [],
   "source": [
    "npxg_xg_assist_per90 = soup.find(\"table\", {\"class\":\"stats_table sortable min_width now_sortable sticky_table eq1 re1 le1\"}).find(\"tr\", {\"data-row\":\"0\"}).find(\"td\", {\"data-stat\":\"npxg_xg_assist_per90\"}).text"
   ]
  },
  {
   "cell_type": "code",
   "execution_count": 158,
   "metadata": {},
   "outputs": [
    {
     "data": {
      "text/plain": [
       "'2.44'"
      ]
     },
     "execution_count": 158,
     "metadata": {},
     "output_type": "execute_result"
    }
   ],
   "source": [
    "npxg_xg_assist_per90"
   ]
  },
  {
   "cell_type": "code",
   "execution_count": null,
   "metadata": {},
   "outputs": [],
   "source": []
  }
 ],
 "metadata": {
  "kernelspec": {
   "display_name": "base",
   "language": "python",
   "name": "python3"
  },
  "language_info": {
   "codemirror_mode": {
    "name": "ipython",
    "version": 3
   },
   "file_extension": ".py",
   "mimetype": "text/x-python",
   "name": "python",
   "nbconvert_exporter": "python",
   "pygments_lexer": "ipython3",
   "version": "3.9.7"
  }
 },
 "nbformat": 4,
 "nbformat_minor": 2
}
