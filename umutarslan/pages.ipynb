{
 "cells": [
  {
   "cell_type": "code",
   "execution_count": 90,
   "metadata": {},
   "outputs": [],
   "source": [
    "from bs4 import BeautifulSoup\n",
    "import requests\n",
    "import time, os"
   ]
  },
  {
   "cell_type": "code",
   "execution_count": 91,
   "metadata": {},
   "outputs": [],
   "source": [
    "from selenium import webdriver\n",
    "from selenium.webdriver.common.keys import Keys\n",
    "import warnings\n",
    "warnings.filterwarnings(action='ignore')"
   ]
  },
  {
   "cell_type": "code",
   "execution_count": 92,
   "metadata": {},
   "outputs": [],
   "source": [
    "fbref_query = \"https://fbref.com/en/comps/9/history/Premier-League-Seasons\""
   ]
  },
  {
   "cell_type": "code",
   "execution_count": 93,
   "metadata": {},
   "outputs": [],
   "source": [
    "def getAndParseURL(url):\n",
    "    result = requests.get(url, headers={\"User-Agent\":\"Mozilla/5.0\"})\n",
    "    soup = BeautifulSoup(result.text, \"html.parser\")\n",
    "    return soup"
   ]
  },
  {
   "cell_type": "code",
   "execution_count": 94,
   "metadata": {},
   "outputs": [
    {
     "data": {
      "text/plain": [
       "['https://fbref.com/en/comps/9/Premier-League-Stats',\n",
       " 'https://fbref.com/en/comps/9/2022-2023/2022-2023-Premier-League-Stats',\n",
       " 'https://fbref.com/en/comps/9/2021-2022/2021-2022-Premier-League-Stats']"
      ]
     },
     "execution_count": 94,
     "metadata": {},
     "output_type": "execute_result"
    }
   ],
   "source": [
    "seasons = []\n",
    "html = getAndParseURL(fbref_query)\n",
    "\n",
    "season_count=3\n",
    "for season in html.findAll(\"td\",{\"data-stat\":\"league_name\"}):\n",
    "    seasons.append(\"https://fbref.com\" + season.find(\"a\").get(\"href\"))\n",
    "    season_count -= 1\n",
    "    if season_count == 0:\n",
    "        break\n",
    "        \n",
    "seasons\n"
   ]
  },
  {
   "cell_type": "code",
   "execution_count": 95,
   "metadata": {},
   "outputs": [
    {
     "name": "stdout",
     "output_type": "stream",
     "text": [
      "https://fbref.com/en/comps/9/Premier-League-Stats\n",
      "https://fbref.com/en/comps/9/Premier-League-Stats\n",
      "https://fbref.com/en/comps/9/Premier-League-Stats\n",
      "https://fbref.com/en/comps/9/Premier-League-Stats\n",
      "https://fbref.com/en/comps/9/Premier-League-Stats\n",
      "https://fbref.com/en/comps/9/2022-2023/2022-2023-Premier-League-Stats\n",
      "https://fbref.com/en/comps/9/2022-2023/2022-2023-Premier-League-Stats\n",
      "https://fbref.com/en/comps/9/2022-2023/2022-2023-Premier-League-Stats\n",
      "https://fbref.com/en/comps/9/2022-2023/2022-2023-Premier-League-Stats\n",
      "https://fbref.com/en/comps/9/2022-2023/2022-2023-Premier-League-Stats\n",
      "https://fbref.com/en/comps/9/2021-2022/2021-2022-Premier-League-Stats\n",
      "https://fbref.com/en/comps/9/2021-2022/2021-2022-Premier-League-Stats\n",
      "https://fbref.com/en/comps/9/2021-2022/2021-2022-Premier-League-Stats\n",
      "https://fbref.com/en/comps/9/2021-2022/2021-2022-Premier-League-Stats\n",
      "https://fbref.com/en/comps/9/2021-2022/2021-2022-Premier-League-Stats\n"
     ]
    }
   ],
   "source": [
    "features=[]\n",
    "for season in seasons:    \n",
    "    driver = webdriver.Chrome()\n",
    "    driver.get(season)\n",
    "    soup = BeautifulSoup(driver.page_source, \"html.parser\")\n",
    "    print(season)\n",
    "    for row in range(5):\n",
    "        date = html.find(\"div\", {\"id\":\"meta\"}).h1.text.strip().split()[0]\n",
    "        squad = soup.find(\"table\", {\"class\":\"stats_table sortable min_width force_mobilize now_sortable sticky_table eq2 re2 le2\"}).find(\"tr\", {\"data-row\":row}).find(\"td\", {\"data-stat\":\"team\"}).text.strip()\n",
    "        features.append([date, squad])\n",
    "        \n"
   ]
  },
  {
   "cell_type": "code",
   "execution_count": 96,
   "metadata": {},
   "outputs": [
    {
     "data": {
      "text/plain": [
       "[['Premier', 'Manchester City'],\n",
       " ['Premier', 'Liverpool'],\n",
       " ['Premier', 'Arsenal'],\n",
       " ['Premier', 'Tottenham'],\n",
       " ['Premier', 'Aston Villa'],\n",
       " ['Premier', 'Manchester City'],\n",
       " ['Premier', 'Arsenal'],\n",
       " ['Premier', 'Manchester Utd'],\n",
       " ['Premier', 'Newcastle Utd'],\n",
       " ['Premier', 'Liverpool'],\n",
       " ['Premier', 'Manchester City'],\n",
       " ['Premier', 'Liverpool'],\n",
       " ['Premier', 'Chelsea'],\n",
       " ['Premier', 'Tottenham'],\n",
       " ['Premier', 'Arsenal']]"
      ]
     },
     "execution_count": 96,
     "metadata": {},
     "output_type": "execute_result"
    }
   ],
   "source": [
    "features"
   ]
  },
  {
   "cell_type": "code",
   "execution_count": 87,
   "metadata": {},
   "outputs": [
    {
     "data": {
      "text/plain": [
       "<div id=\"meta\">\n",
       "<div class=\"media-item logo loader\">\n",
       "<img alt=\" Logo\" class=\"teamlogo\" src=\"https://cdn.ssref.net/req/202311071/tlogo/fb/9.png\"/>\n",
       "</div>\n",
       "<div>\n",
       "<h1>\n",
       "\t\t\t\t\n",
       "\t\t\t\tPremier League Seasons\n",
       "\t\t\t\t\n",
       "\t\t\t</h1>\n",
       "<div class=\"prevnext\">\n",
       "<a class=\"button2 next\" href=\"/en/comps/10/history/Championship-Seasons\">EFL Championship</a>\n",
       "</div>\n",
       "<p><strong>Sanctioning Body</strong>: The Football Association (<a href=\"/en/country/ENG/England-Football\">England</a>) <span class=\"f-i f-gb-eng\" style=\"\">eng</span></p><p><strong>Gender</strong>: Male</p>\n",
       "<button class=\"opener\" data-class=\"open\" data-id=\"info\" data-type=\"hide_after\" id=\"meta_more_button\">More league info</button>\n",
       "<script>\n",
       "// see sr.menus.js:sr_menus_checkInfoCookie to explain\n",
       "function sr_menus_checkInfoCookie_inline(browserType) {\n",
       "    var el_info = document.getElementById('info');\n",
       "    var el_button = document.getElementById('meta_more_button');\n",
       "    var bling_len = 0;    \n",
       "    if (!el_button || !el_info || !el_info.classList) { console.log('no meta_button'); return; }\n",
       "    var el = el_button;\n",
       "    var siblingsHidden = 0;\n",
       "    while (el = el.previousSibling) { if ((el.nodeType === 1) && (el.offsetWidth <= 0 || el.offsetHeight <= 0)) { siblingsHidden++; } }\n",
       "    var button_cookie = false;\n",
       "    if (browserType === 'desktop') {  button_cookie = vjs_readCookie('meta_more_button');   }\n",
       "    // We allow up to four of bling lines or additional player bio data entries in mobile.\n",
       "    if (el_info && el_button && (button_cookie || (siblingsHidden + bling_len <= 4))) {el_button.parentNode.removeChild(el_button);\tel_info.classList.add('open');  }\n",
       "    else { el_button.classList.add('show');  }\n",
       "}\n",
       "if (Modernizr.desktop || Modernizr.laptop) { sr_menus_checkInfoCookie_inline('desktop'); } else { sr_menus_checkInfoCookie_inline('mobile'); }\n",
       "var sr_menus_checkInfoCookie_run_inline = true;\n",
       "</script>\n",
       "</div>\n",
       "</div>"
      ]
     },
     "execution_count": 87,
     "metadata": {},
     "output_type": "execute_result"
    }
   ],
   "source": [
    "date = html.find(\"div\", {\"id\":\"meta\"})\n",
    "date"
   ]
  },
  {
   "cell_type": "code",
   "execution_count": 88,
   "metadata": {},
   "outputs": [
    {
     "data": {
      "text/plain": [
       "'Arsenal'"
      ]
     },
     "execution_count": 88,
     "metadata": {},
     "output_type": "execute_result"
    }
   ],
   "source": [
    "squad = soup.find(\"table\", {\"class\":\"stats_table sortable min_width now_sortable sticky_table eq1 re1 le1\"}).tbody.th.text\n",
    "squad"
   ]
  },
  {
   "cell_type": "code",
   "execution_count": 89,
   "metadata": {},
   "outputs": [
    {
     "data": {
      "text/plain": [
       "'27'"
      ]
     },
     "execution_count": 89,
     "metadata": {},
     "output_type": "execute_result"
    }
   ],
   "source": [
    "players_used = soup.find(\"table\", {\"class\":\"stats_table sortable min_width now_sortable sticky_table eq1 re1 le1\"}).find(\"tr\", {\"data-row\":\"0\"}).find(\"td\", {\"data-stat\":\"players_used\"}).text\n",
    "players_used"
   ]
  },
  {
   "cell_type": "code",
   "execution_count": null,
   "metadata": {},
   "outputs": [],
   "source": []
  }
 ],
 "metadata": {
  "kernelspec": {
   "display_name": "base",
   "language": "python",
   "name": "python3"
  },
  "language_info": {
   "codemirror_mode": {
    "name": "ipython",
    "version": 3
   },
   "file_extension": ".py",
   "mimetype": "text/x-python",
   "name": "python",
   "nbconvert_exporter": "python",
   "pygments_lexer": "ipython3",
   "version": "3.9.7"
  }
 },
 "nbformat": 4,
 "nbformat_minor": 2
}
