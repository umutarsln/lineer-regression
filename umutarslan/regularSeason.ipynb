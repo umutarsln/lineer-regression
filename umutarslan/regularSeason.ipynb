{
 "cells": [
  {
   "cell_type": "code",
   "execution_count": 1,
   "metadata": {},
   "outputs": [],
   "source": [
    "from bs4 import BeautifulSoup\n",
    "import requests\n",
    "import time, os"
   ]
  },
  {
   "cell_type": "code",
   "execution_count": 2,
   "metadata": {},
   "outputs": [],
   "source": [
    "from selenium import webdriver\n",
    "from selenium.webdriver.common.keys import Keys\n",
    "import warnings\n",
    "warnings.filterwarnings(action='ignore')"
   ]
  },
  {
   "cell_type": "code",
   "execution_count": 3,
   "metadata": {},
   "outputs": [],
   "source": [
    "fbref_query = \"https://fbref.com/en/comps/9/Premier-League-Stats\""
   ]
  },
  {
   "cell_type": "code",
   "execution_count": 4,
   "metadata": {},
   "outputs": [],
   "source": [
    "driver = webdriver.Chrome()\n",
    "driver.get(fbref_query)"
   ]
  },
  {
   "cell_type": "code",
   "execution_count": 6,
   "metadata": {},
   "outputs": [],
   "source": [
    "soup = BeautifulSoup(driver.page_source, \"html.parser\")"
   ]
  },
  {
   "cell_type": "code",
   "execution_count": 7,
   "metadata": {},
   "outputs": [
    {
     "data": {
      "text/plain": [
       "'2023-2024'"
      ]
     },
     "execution_count": 7,
     "metadata": {},
     "output_type": "execute_result"
    }
   ],
   "source": [
    "date = soup.find(\"div\", {\"id\":\"meta\"}).h1.text.strip().split()[0]\n",
    "date"
   ]
  },
  {
   "cell_type": "markdown",
   "metadata": {},
   "source": [
    "### Takım Bilgisi"
   ]
  },
  {
   "cell_type": "code",
   "execution_count": 21,
   "metadata": {},
   "outputs": [
    {
     "data": {
      "text/plain": [
       "'Manchester City'"
      ]
     },
     "execution_count": 21,
     "metadata": {},
     "output_type": "execute_result"
    }
   ],
   "source": [
    "squad = soup.find(\"table\", {\"class\":\"stats_table sortable min_width force_mobilize now_sortable sticky_table eq2 re2 le2\"}).find(\"tr\", {\"data-row\":\"0\"}).find(\"td\", {\"data-stat\":\"team\"}).text.strip()\n",
    "squad"
   ]
  },
  {
   "cell_type": "code",
   "execution_count": 22,
   "metadata": {},
   "outputs": [
    {
     "data": {
      "text/plain": [
       "'12'"
      ]
     },
     "execution_count": 22,
     "metadata": {},
     "output_type": "execute_result"
    }
   ],
   "source": [
    "games = soup.find(\"table\", {\"class\":\"stats_table sortable min_width force_mobilize now_sortable sticky_table eq2 re2 le2\"}).find(\"tr\", {\"data-row\":\"0\"}).find(\"td\", {\"data-stat\":\"games\"}).text\n",
    "games"
   ]
  },
  {
   "cell_type": "code",
   "execution_count": 23,
   "metadata": {},
   "outputs": [
    {
     "data": {
      "text/plain": [
       "'9'"
      ]
     },
     "execution_count": 23,
     "metadata": {},
     "output_type": "execute_result"
    }
   ],
   "source": [
    "wins = soup.find(\"table\", {\"class\":\"stats_table sortable min_width force_mobilize now_sortable sticky_table eq2 re2 le2\"}).find(\"tr\", {\"data-row\":\"0\"}).find(\"td\", {\"data-stat\":\"wins\"}).text\n",
    "wins"
   ]
  },
  {
   "cell_type": "code",
   "execution_count": 28,
   "metadata": {},
   "outputs": [
    {
     "data": {
      "text/plain": [
       "'1'"
      ]
     },
     "execution_count": 28,
     "metadata": {},
     "output_type": "execute_result"
    }
   ],
   "source": [
    "ties = soup.find(\"table\", {\"class\":\"stats_table sortable min_width force_mobilize now_sortable sticky_table eq2 re2 le2\"}).find(\"tr\", {\"data-row\":\"0\"}).find(\"td\", {\"data-stat\":\"ties\"}).text\n",
    "ties"
   ]
  },
  {
   "cell_type": "code",
   "execution_count": 29,
   "metadata": {},
   "outputs": [
    {
     "data": {
      "text/plain": [
       "'2'"
      ]
     },
     "execution_count": 29,
     "metadata": {},
     "output_type": "execute_result"
    }
   ],
   "source": [
    "losses = soup.find(\"table\", {\"class\":\"stats_table sortable min_width force_mobilize now_sortable sticky_table eq2 re2 le2\"}).find(\"tr\", {\"data-row\":\"0\"}).find(\"td\", {\"data-stat\":\"losses\"}).text\n",
    "losses"
   ]
  },
  {
   "cell_type": "code",
   "execution_count": 30,
   "metadata": {},
   "outputs": [
    {
     "data": {
      "text/plain": [
       "'32'"
      ]
     },
     "execution_count": 30,
     "metadata": {},
     "output_type": "execute_result"
    }
   ],
   "source": [
    "goals_for = soup.find(\"table\", {\"class\":\"stats_table sortable min_width force_mobilize now_sortable sticky_table eq2 re2 le2\"}).find(\"tr\", {\"data-row\":\"0\"}).find(\"td\", {\"data-stat\":\"goals_for\"}).text\n",
    "goals_for"
   ]
  },
  {
   "cell_type": "code",
   "execution_count": 31,
   "metadata": {},
   "outputs": [
    {
     "data": {
      "text/plain": [
       "'12'"
      ]
     },
     "execution_count": 31,
     "metadata": {},
     "output_type": "execute_result"
    }
   ],
   "source": [
    "goals_against = soup.find(\"table\", {\"class\":\"stats_table sortable min_width force_mobilize now_sortable sticky_table eq2 re2 le2\"}).find(\"tr\", {\"data-row\":\"0\"}).find(\"td\", {\"data-stat\":\"goals_against\"}).text\n",
    "goals_against"
   ]
  },
  {
   "cell_type": "code",
   "execution_count": 40,
   "metadata": {},
   "outputs": [
    {
     "data": {
      "text/plain": [
       "'+20'"
      ]
     },
     "execution_count": 40,
     "metadata": {},
     "output_type": "execute_result"
    }
   ],
   "source": [
    "goal_diff = soup.find(\"table\", {\"class\":\"stats_table sortable min_width force_mobilize now_sortable sticky_table eq2 re2 le2\"}).find(\"tr\", {\"data-row\":\"0\"}).find(\"td\", {\"data-stat\":\"goal_diff\"}).text\n",
    "goal_diff"
   ]
  },
  {
   "cell_type": "code",
   "execution_count": 41,
   "metadata": {},
   "outputs": [
    {
     "data": {
      "text/plain": [
       "'28'"
      ]
     },
     "execution_count": 41,
     "metadata": {},
     "output_type": "execute_result"
    }
   ],
   "source": [
    "points = soup.find(\"table\", {\"class\":\"stats_table sortable min_width force_mobilize now_sortable sticky_table eq2 re2 le2\"}).find(\"tr\", {\"data-row\":\"0\"}).find(\"td\", {\"data-stat\":\"points\"}).text\n",
    "points"
   ]
  },
  {
   "cell_type": "code",
   "execution_count": 42,
   "metadata": {},
   "outputs": [
    {
     "data": {
      "text/plain": [
       "'2.33'"
      ]
     },
     "execution_count": 42,
     "metadata": {},
     "output_type": "execute_result"
    }
   ],
   "source": [
    "points_avg = soup.find(\"table\", {\"class\":\"stats_table sortable min_width force_mobilize now_sortable sticky_table eq2 re2 le2\"}).find(\"tr\", {\"data-row\":\"0\"}).find(\"td\", {\"data-stat\":\"points_avg\"}).text\n",
    "points_avg"
   ]
  },
  {
   "cell_type": "code",
   "execution_count": 43,
   "metadata": {},
   "outputs": [
    {
     "data": {
      "text/plain": [
       "'24.4'"
      ]
     },
     "execution_count": 43,
     "metadata": {},
     "output_type": "execute_result"
    }
   ],
   "source": [
    "xg_for = soup.find(\"table\", {\"class\":\"stats_table sortable min_width force_mobilize now_sortable sticky_table eq2 re2 le2\"}).find(\"tr\", {\"data-row\":\"0\"}).find(\"td\", {\"data-stat\":\"xg_for\"}).text\n",
    "xg_for"
   ]
  },
  {
   "cell_type": "code",
   "execution_count": 44,
   "metadata": {},
   "outputs": [
    {
     "data": {
      "text/plain": [
       "'11.1'"
      ]
     },
     "execution_count": 44,
     "metadata": {},
     "output_type": "execute_result"
    }
   ],
   "source": [
    "xg_against = soup.find(\"table\", {\"class\":\"stats_table sortable min_width force_mobilize now_sortable sticky_table eq2 re2 le2\"}).find(\"tr\", {\"data-row\":\"0\"}).find(\"td\", {\"data-stat\":\"xg_against\"}).text\n",
    "xg_against"
   ]
  },
  {
   "cell_type": "code",
   "execution_count": 45,
   "metadata": {},
   "outputs": [
    {
     "data": {
      "text/plain": [
       "'+13.3'"
      ]
     },
     "execution_count": 45,
     "metadata": {},
     "output_type": "execute_result"
    }
   ],
   "source": [
    "xg_diff = soup.find(\"table\", {\"class\":\"stats_table sortable min_width force_mobilize now_sortable sticky_table eq2 re2 le2\"}).find(\"tr\", {\"data-row\":\"0\"}).find(\"td\", {\"data-stat\":\"xg_diff\"}).text\n",
    "xg_diff"
   ]
  },
  {
   "cell_type": "code",
   "execution_count": 51,
   "metadata": {},
   "outputs": [
    {
     "data": {
      "text/plain": [
       "'+1.11'"
      ]
     },
     "execution_count": 51,
     "metadata": {},
     "output_type": "execute_result"
    }
   ],
   "source": [
    "xg_diff_per90 = soup.find(\"table\", {\"class\":\"stats_table sortable min_width force_mobilize now_sortable sticky_table eq2 re2 le2\"}).find(\"tr\", {\"data-row\":\"0\"}).find(\"td\", {\"data-stat\":\"xg_diff_per90\"}).text\n",
    "xg_diff_per90"
   ]
  }
 ],
 "metadata": {
  "kernelspec": {
   "display_name": "base",
   "language": "python",
   "name": "python3"
  },
  "language_info": {
   "codemirror_mode": {
    "name": "ipython",
    "version": 3
   },
   "file_extension": ".py",
   "mimetype": "text/x-python",
   "name": "python",
   "nbconvert_exporter": "python",
   "pygments_lexer": "ipython3",
   "version": "3.9.7"
  }
 },
 "nbformat": 4,
 "nbformat_minor": 2
}
